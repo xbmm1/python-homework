{
 "cells": [
  {
   "cell_type": "code",
   "execution_count": 23,
   "id": "ef58cfa8-7adc-4aef-ab9f-6e853de524b2",
   "metadata": {},
   "outputs": [],
   "source": [
    "import csv\n",
    "import pandas as pd\n",
    "from pathlib import Path\n",
    "import numpy as np\n"
   ]
  },
  {
   "cell_type": "code",
   "execution_count": 41,
   "id": "2f4115c3-5fe2-44e7-a213-65687ffa3676",
   "metadata": {},
   "outputs": [],
   "source": [
    "input_file = Path('budget_data.csv')\n",
    "budget_data = pd.read_csv(input_file) "
   ]
  },
  {
   "cell_type": "code",
   "execution_count": 33,
   "id": "ae635d51-eff8-4e23-9390-5204d5802d48",
   "metadata": {},
   "outputs": [],
   "source": [
    "# calculate the total number of months included in the dataset\n",
    "total_months = budget_data['Date'].count()"
   ]
  },
  {
   "cell_type": "code",
   "execution_count": 36,
   "id": "07cfa760-6db9-4833-abc6-5a850132af39",
   "metadata": {},
   "outputs": [],
   "source": [
    "# calculate the net total amount of Profit/Losses over the entire period\n",
    "net_total = budget_data['Profit/Losses'].sum()"
   ]
  },
  {
   "cell_type": "code",
   "execution_count": 37,
   "id": "de6288fa-892f-4059-b012-0a4f15d1445c",
   "metadata": {},
   "outputs": [],
   "source": [
    "# calculate the changes in Profit/Losses over the entire period\n",
    "changes = budget_data['Profit/Losses'].diff()"
   ]
  },
  {
   "cell_type": "code",
   "execution_count": 38,
   "id": "120e274a-27c8-4cd6-bce6-f079bfcebe5b",
   "metadata": {},
   "outputs": [],
   "source": [
    "# calculate the average of the changes in Profit/Losses over the entire period\n",
    "average_change = changes.mean()"
   ]
  },
  {
   "cell_type": "code",
   "execution_count": 45,
   "id": "dcc783df-2a8d-4031-a460-9fd56bb1fbd4",
   "metadata": {},
   "outputs": [],
   "source": [
    "# calculate the greatest increase in profits (date and amount) over the entire period\n",
    "greatest_increase = changes.max()\n",
    "greatest_increase_date = budget_data.iloc[changes.idxmax()]['Date']\n",
    "# calculate the greatest decrease in losses (date and amount) over the entire period\n",
    "greatest_decrease = changes.min()\n",
    "greatest_decrease_date = budget_data.iloc[changes.idxmin()]['Date']\n"
   ]
  },
  {
   "cell_type": "code",
   "execution_count": 48,
   "id": "390c3dcd-186b-487a-b89d-609d6fbcd257",
   "metadata": {},
   "outputs": [
    {
     "name": "stdout",
     "output_type": "stream",
     "text": [
      "Financial Analysis\n",
      "---------------------------\n",
      "Total Months: 86\n",
      "Total: $38382578\n",
      "Average Change: $-2315.12\n",
      "Greatest Increase in Profits: Feb-2012 ($1926159)\n",
      "Greatest Decrease in Profits: Sep-2013 ($-2196167)\n"
     ]
    }
   ],
   "source": [
    "# Print the analysis to the terminal\n",
    "print(\"Financial Analysis\")\n",
    "print(\"---------------------------\")\n",
    "print(f\"Total Months: {total_months}\")\n",
    "print(f\"Total: ${net_total}\")\n",
    "print(f\"Average Change: ${average_change:.2f}\")\n",
    "print(f\"Greatest Increase in Profits: {greatest_increase_date} (${greatest_increase:.0f})\")\n",
    "print(f\"Greatest Decrease in Profits: {greatest_decrease_date} (${greatest_decrease:.0f})\")"
   ]
  },
  {
   "cell_type": "code",
   "execution_count": 9,
   "id": "22a8ea41-21a7-4995-8963-196a28cdf600",
   "metadata": {},
   "outputs": [],
   "source": [
    "# Set the path for the output file\n",
    "output_file = \"financial_analysis.txt\""
   ]
  },
  {
   "cell_type": "code",
   "execution_count": 51,
   "id": "8b02da1c-92b7-45d1-a4f4-ec208aed75d6",
   "metadata": {},
   "outputs": [],
   "source": [
    "# Write the analysis to the output file\n",
    "with open('financial_analysis.txt', 'w') as file:\n",
    "    file.write(\"Financial Analysis\\n\")\n",
    "    file.write(\"---------------------------\\n\")\n",
    "    file.write(f\"Total Months: {total_months}\\n\")\n",
    "    file.write(f\"Total: ${net_total}\\n\")\n",
    "    file.write(f\"Average Change: ${average_change:.2f}\\n\")\n",
    "    file.write(f\"Greatest Increase in Profits: {greatest_increase_date} (${greatest_increase:.0f})\\n\")\n",
    "    file.write(f\"Greatest Decrease in Profits: {greatest_decrease_date} (${greatest_decrease:.0f})\\n\")"
   ]
  },
  {
   "cell_type": "code",
   "execution_count": null,
   "id": "ad6eb629-a7e2-4c2f-83ea-3110f3db9008",
   "metadata": {},
   "outputs": [],
   "source": []
  }
 ],
 "metadata": {
  "kernelspec": {
   "display_name": "Python 3 (ipykernel)",
   "language": "python",
   "name": "python3"
  },
  "language_info": {
   "codemirror_mode": {
    "name": "ipython",
    "version": 3
   },
   "file_extension": ".py",
   "mimetype": "text/x-python",
   "name": "python",
   "nbconvert_exporter": "python",
   "pygments_lexer": "ipython3",
   "version": "3.7.13"
  }
 },
 "nbformat": 4,
 "nbformat_minor": 5
}
