{
 "cells": [
  {
   "cell_type": "code",
   "execution_count": 1,
   "id": "ef58cfa8-7adc-4aef-ab9f-6e853de524b2",
   "metadata": {},
   "outputs": [],
   "source": [
    "import csv\n"
   ]
  },
  {
   "cell_type": "code",
   "execution_count": 2,
   "id": "d3a06226-c687-4e6b-b3d6-e8e17a66369c",
   "metadata": {},
   "outputs": [],
   "source": [
    "# Open the CSV file and read the data\n",
    "with open('budget_data.csv', 'r') as file:\n",
    "    reader = csv.reader(file)\n",
    "    # Skip the header row\n",
    "    header = next(reader)\n",
    "    # Initialize variables\n",
    "    total_months = 0\n",
    "    net_total = 0\n",
    "    changes = []\n",
    "    previous_profit_loss = None\n",
    "    greatest_increase = {'date': None, 'amount': 0}\n",
    "    greatest_decrease = {'date': None, 'amount': 0}\n",
    "    # Loop over the rows in the CSV file\n",
    "    for row in reader:\n",
    "        # Increment the total number of months\n",
    "        total_months += 1\n",
    "        # Calculate the net total amount of Profit/Losses\n",
    "        net_total += int(row[1])\n",
    "        # Calculate the changes in Profit/Losses\n",
    "        if previous_profit_loss is not None:\n",
    "            change = int(row[1]) - previous_profit_loss\n",
    "            changes.append(change)\n",
    "            # Check for the greatest increase or decrease in profits\n",
    "            if change > greatest_increase['amount']:\n",
    "                greatest_increase['amount'] = change\n",
    "                greatest_increase['date'] = row[0]\n",
    "            elif change < greatest_decrease['amount']:\n",
    "                greatest_decrease['amount'] = change\n",
    "                greatest_decrease['date'] = row[0]\n",
    "        previous_profit_loss = int(row[1])"
   ]
  },
  {
   "cell_type": "code",
   "execution_count": 3,
   "id": "aac6073d-3014-4b9c-9a75-458f17e9ac47",
   "metadata": {},
   "outputs": [],
   "source": [
    "# Calculate the average of the changes in Profit/Losses over the entire period\n",
    "average_change = sum(changes) / len(changes)"
   ]
  },
  {
   "cell_type": "code",
   "execution_count": 13,
   "id": "390c3dcd-186b-487a-b89d-609d6fbcd257",
   "metadata": {},
   "outputs": [
    {
     "name": "stdout",
     "output_type": "stream",
     "text": [
      "Financial Analysis\n",
      "---------------------------\n",
      "Total Months: 86\n",
      "Total: $38382578\n",
      "Average Change: $-2315.12\n",
      "Greatest Increase in Profits: Feb-2012 ($1926159)\n",
      "Greatest Decrease in Profits: Sep-2013 ($-2196167)\n"
     ]
    }
   ],
   "source": [
    "# Print the analysis to the terminal\n",
    "print(\"Financial Analysis\")\n",
    "print(\"---------------------------\")\n",
    "print(f\"Total Months: {total_months}\")\n",
    "print(f\"Total: ${net_total}\")\n",
    "print(f\"Average Change: ${average_change:.2f}\")\n",
    "print(f\"Greatest Increase in Profits: {greatest_increase['date']} (${greatest_increase['amount']})\")\n",
    "print(f\"Greatest Decrease in Profits: {greatest_decrease['date']} (${greatest_decrease['amount']})\")"
   ]
  },
  {
   "cell_type": "code",
   "execution_count": 15,
   "id": "22a8ea41-21a7-4995-8963-196a28cdf600",
   "metadata": {},
   "outputs": [],
   "source": [
    "# Set the path for the output file\n",
    "output_file = \"financial_analysis.txt\""
   ]
  },
  {
   "cell_type": "code",
   "execution_count": 14,
   "id": "8b02da1c-92b7-45d1-a4f4-ec208aed75d6",
   "metadata": {},
   "outputs": [],
   "source": [
    "# Write the analysis to the output file\n",
    "with open('financial_analysis.txt', 'w') as file:\n",
    "    file.write(\"Financial Analysis\\n\")\n",
    "    file.write(\"---------------------------\\n\")\n",
    "    file.write(f\"Total Months: {total_months}\\n\")\n",
    "    file.write(f\"Total: ${net_total}\\n\")\n",
    "    file.write(f\"Average Change: ${average_change:.2f}\\n\")\n",
    "    file.write(f\"Greatest Increase in Profits: {greatest_increase['date']} (${greatest_increase['amount']})\")\n",
    "    file.write(f\"Greatest Decrease in Profits: {greatest_decrease['date']} (${greatest_decrease['amount']})\")"
   ]
  },
  {
   "cell_type": "code",
   "execution_count": null,
   "id": "ad6eb629-a7e2-4c2f-83ea-3110f3db9008",
   "metadata": {},
   "outputs": [],
   "source": []
  }
 ],
 "metadata": {
  "kernelspec": {
   "display_name": "Python 3 (ipykernel)",
   "language": "python",
   "name": "python3"
  },
  "language_info": {
   "codemirror_mode": {
    "name": "ipython",
    "version": 3
   },
   "file_extension": ".py",
   "mimetype": "text/x-python",
   "name": "python",
   "nbconvert_exporter": "python",
   "pygments_lexer": "ipython3",
   "version": "3.7.13"
  }
 },
 "nbformat": 4,
 "nbformat_minor": 5
}
