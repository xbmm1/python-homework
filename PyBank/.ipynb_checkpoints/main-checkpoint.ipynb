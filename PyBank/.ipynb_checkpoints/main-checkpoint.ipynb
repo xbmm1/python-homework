{
 "cells": [
  {
   "cell_type": "code",
   "execution_count": 1,
   "id": "ef58cfa8-7adc-4aef-ab9f-6e853de524b2",
   "metadata": {},
   "outputs": [],
   "source": [
    "import csv"
   ]
  },
  {
   "cell_type": "code",
   "execution_count": 2,
   "id": "2f4115c3-5fe2-44e7-a213-65687ffa3676",
   "metadata": {},
   "outputs": [],
   "source": [
    "input_file = \"budget_data.csv\""
   ]
  },
  {
   "cell_type": "code",
   "execution_count": 3,
   "id": "ae635d51-eff8-4e23-9390-5204d5802d48",
   "metadata": {},
   "outputs": [],
   "source": [
    "total_months = 0\n",
    "total_profit_loss = 0\n",
    "profit_loss_changes = []\n",
    "dates = []\n"
   ]
  },
  {
   "cell_type": "code",
   "execution_count": 4,
   "id": "07cfa760-6db9-4833-abc6-5a850132af39",
   "metadata": {},
   "outputs": [],
   "source": [
    "# open the input file and read the header row\n",
    "with open(input_file, \"r\") as csv_file:\n",
    "    csv_reader = csv.reader(csv_file, delimiter=\",\")\n",
    "    header = next(csv_reader)\n",
    "\n",
    "    # loop through each row \n",
    "    for row in csv_reader:\n",
    "\n",
    "        # add the current date and profit/loss \n",
    "        dates.append(row[0])\n",
    "        profit_loss_changes.append(int(row[1]))\n",
    "\n",
    "        # Add the current profit/loss \n",
    "        total_profit_loss += int(row[1])\n",
    "\n",
    "        # Increment the total_months variable\n",
    "        total_months += 1"
   ]
  },
  {
   "cell_type": "code",
   "execution_count": 5,
   "id": "de6288fa-892f-4059-b012-0a4f15d1445c",
   "metadata": {},
   "outputs": [],
   "source": [
    "# average of the changes in profit/loss\n",
    "average_change = sum(profit_loss_changes) / len(profit_loss_changes)"
   ]
  },
  {
   "cell_type": "code",
   "execution_count": 6,
   "id": "120e274a-27c8-4cd6-bce6-f079bfcebe5b",
   "metadata": {},
   "outputs": [],
   "source": [
    "# greatest increase in profits and its date\n",
    "max_increase = max(profit_loss_changes)\n",
    "max_increase_date = dates[profit_loss_changes.index(max_increase)]"
   ]
  },
  {
   "cell_type": "code",
   "execution_count": 7,
   "id": "dcc783df-2a8d-4031-a460-9fd56bb1fbd4",
   "metadata": {},
   "outputs": [],
   "source": [
    "# greatest decrease in losses and its date\n",
    "max_decrease = min(profit_loss_changes)\n",
    "max_decrease_date = dates[profit_loss_changes.index(max_decrease)]"
   ]
  },
  {
   "cell_type": "code",
   "execution_count": 8,
   "id": "390c3dcd-186b-487a-b89d-609d6fbcd257",
   "metadata": {},
   "outputs": [
    {
     "name": "stdout",
     "output_type": "stream",
     "text": [
      "Financial Analysis\n",
      "---------------------------\n",
      "Total Months: 86\n",
      "Total: $38382578\n",
      "Average Change: $446309.05\n",
      "Greatest Increase in Profits: Feb-2012 ($1170593)\n",
      "Greatest Decrease in Profits: Sep-2013 ($-1196225)\n"
     ]
    }
   ],
   "source": [
    "# Print the analysis to the terminal\n",
    "print(\"Financial Analysis\")\n",
    "print(\"---------------------------\")\n",
    "print(f\"Total Months: {total_months}\")\n",
    "print(f\"Total: ${total_profit_loss}\")\n",
    "print(f\"Average Change: ${average_change:.2f}\")\n",
    "print(f\"Greatest Increase in Profits: {max_increase_date} (${max_increase})\")\n",
    "print(f\"Greatest Decrease in Profits: {max_decrease_date} (${max_decrease})\")"
   ]
  },
  {
   "cell_type": "code",
   "execution_count": 9,
   "id": "22a8ea41-21a7-4995-8963-196a28cdf600",
   "metadata": {},
   "outputs": [],
   "source": [
    "# Set the path for the output file\n",
    "output_file = \"financial_analysis.txt\""
   ]
  },
  {
   "cell_type": "code",
   "execution_count": 10,
   "id": "8b02da1c-92b7-45d1-a4f4-ec208aed75d6",
   "metadata": {},
   "outputs": [],
   "source": [
    "# Write the analysis to the output file\n",
    "with open(output_file, \"w\") as txt_file:\n",
    "    txt_file.write(\"Financial Analysis\\n\")\n",
    "    txt_file.write(\"---------------------------\\n\")\n",
    "    txt_file.write(f\"Total Months: {total_months}\\n\")\n",
    "    txt_file.write(f\"Total: ${total_profit_loss}\\n\")\n",
    "    txt_file.write(f\"Average Change: ${average_change:.2f}\\n\")\n",
    "    txt_file.write(f\"Greatest Increase in Profits: {max_increase_date} (${max_increase})\\n\")\n",
    "    txt_file.write(f\"Greatest Decrease in Profits: {max_decrease_date} (${max_decrease})\\n\")"
   ]
  },
  {
   "cell_type": "code",
   "execution_count": null,
   "id": "ad6eb629-a7e2-4c2f-83ea-3110f3db9008",
   "metadata": {},
   "outputs": [],
   "source": []
  }
 ],
 "metadata": {
  "kernelspec": {
   "display_name": "Python 3 (ipykernel)",
   "language": "python",
   "name": "python3"
  },
  "language_info": {
   "codemirror_mode": {
    "name": "ipython",
    "version": 3
   },
   "file_extension": ".py",
   "mimetype": "text/x-python",
   "name": "python",
   "nbconvert_exporter": "python",
   "pygments_lexer": "ipython3",
   "version": "3.7.13"
  }
 },
 "nbformat": 4,
 "nbformat_minor": 5
}
